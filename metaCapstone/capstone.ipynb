{
 "cells": [
  {
   "cell_type": "markdown",
   "metadata": {},
   "source": [
    "Update following to connect to your own database"
   ]
  },
  {
   "cell_type": "code",
   "execution_count": 1,
   "metadata": {},
   "outputs": [],
   "source": [
    "dbconfig = {\n",
    "    \"host\":\"tascloud\",\n",
    "    \"port\":3306,\n",
    "    \"user\":\"test\",\n",
    "    \"password\":\"1-TestPassword\",\n",
    "    \"database\":\"little_lemon_db\"\n",
    "}\n"
   ]
  },
  {
   "cell_type": "code",
   "execution_count": 2,
   "metadata": {},
   "outputs": [],
   "source": [
    "from mysql.connector import pooling\n",
    "try:\n",
    "    cpool = pooling.MySQLConnectionPool(pool_name=\"pynative_pool\",\n",
    "                                                  pool_size=2,\n",
    "                                                  pool_reset_session=True,\n",
    "                                                  **dbconfig)\n",
    "except Exception as e:\n",
    "    print(\"Could not create a connection pool. See error for details\")\n",
    "    print(e.args)"
   ]
  },
  {
   "cell_type": "code",
   "execution_count": 3,
   "metadata": {},
   "outputs": [],
   "source": [
    "#Procedures\n",
    "\n",
    "proc_peak_hours = \"\"\"\n",
    "CREATE PROCEDURE PeakHours()\n",
    "SELECT HOUR(BookingSlot) AS BookingHour, COUNT(*) AS BookingCount\n",
    "FROM little_lemon_db.Bookings \n",
    "GROUP BY HOUR(BookingSlot)\n",
    "ORDER BY BookingCount DESC\n",
    "\"\"\"\n",
    "\n",
    "\n"
   ]
  },
  {
   "cell_type": "code",
   "execution_count": 4,
   "metadata": {},
   "outputs": [],
   "source": [
    "# Creating procedures\n",
    "con1 = cpool.get_connection()\n",
    "cmd1 = con1.cursor()\n",
    "cmd1.execute(proc_peak_hours)\n"
   ]
  },
  {
   "cell_type": "code",
   "execution_count": 19,
   "metadata": {},
   "outputs": [
    {
     "name": "stdout",
     "output_type": "stream",
     "text": [
      "['BookingHour', 'BookingCount']\n",
      "(19, 2)\n",
      "(15, 1)\n",
      "(17, 1)\n",
      "(18, 1)\n",
      "(20, 1)\n"
     ]
    }
   ],
   "source": [
    "# Running the proc\n",
    "cmd1.callproc(\"PeakHours\")\n",
    "results = next( cmd1.stored_results() )\n",
    "dataset = results.fetchall()\n",
    "column_names = []\n",
    "#getting column names\n",
    "for result in results.description:\n",
    "    column_names.append(result[0])\n",
    "print(column_names)\n",
    "for data in dataset:\n",
    "    print(data)"
   ]
  },
  {
   "cell_type": "code",
   "execution_count": null,
   "metadata": {},
   "outputs": [],
   "source": []
  }
 ],
 "metadata": {
  "kernelspec": {
   "display_name": "Python 3",
   "language": "python",
   "name": "python3"
  },
  "language_info": {
   "codemirror_mode": {
    "name": "ipython",
    "version": 3
   },
   "file_extension": ".py",
   "mimetype": "text/x-python",
   "name": "python",
   "nbconvert_exporter": "python",
   "pygments_lexer": "ipython3",
   "version": "3.12.2"
  }
 },
 "nbformat": 4,
 "nbformat_minor": 2
}
