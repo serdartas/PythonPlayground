{
 "cells": [
  {
   "cell_type": "markdown",
   "metadata": {},
   "source": [
    "Task 1:\n",
    "Complete the following steps to establish a connection pool:\n",
    "\n",
    "To create a connection pool, import MySQLConnectionPool class from MySQL Connector/Python.\n",
    "\n",
    "To find the information on the error, import the Error class from MySQL Connector/Python.\n",
    "\n",
    "Define your database configurations as a Python dictionary object called dbconfig.\n",
    "\n",
    "Establish a connection pool [pool_name = pool_b] with two connections. \n",
    "\n",
    "Implement error handling using a try-except block in case the connection fails. "
   ]
  },
  {
   "cell_type": "code",
   "execution_count": 2,
   "metadata": {},
   "outputs": [],
   "source": [
    "#Database configuration\n",
    "dbconfig = {\n",
    "    \"host\":\"tascloud\",\n",
    "    \"port\":3306,\n",
    "    \"user\":\"test\",\n",
    "    \"password\":\"1-TestPassword\",\n",
    "    \"database\":\"little_lemon_db\"\n",
    "}"
   ]
  },
  {
   "cell_type": "code",
   "execution_count": 3,
   "metadata": {},
   "outputs": [],
   "source": [
    "from mysql.connector import pooling, Error\n",
    "\n",
    "try:\n",
    "    cpool = pooling.MySQLConnectionPool(pool_name=\"pool_b\",\n",
    "                                                  pool_size=3,\n",
    "                                                  pool_reset_session=True,\n",
    "                                                  **dbconfig)\n",
    "except Error as e:\n",
    "    print(\"Could not create a connection pool. See error for details\")\n",
    "    print(e.args)"
   ]
  },
  {
   "cell_type": "markdown",
   "metadata": {},
   "source": [
    "Task 2:\n",
    "Three guests are trying to book dinner slots simultaneously. Get the connections from pool_b and insert the following data in the Bookings table:\n",
    "TIP: You need to add a connection to connect the third guest.\n",
    "\n",
    "\n",
    "Guest 1:\n",
    "\n",
    "Table Number: 8\n",
    "\n",
    "First Name: Anees\n",
    "\n",
    "Last Name: Java\n",
    "\n",
    "Booking Time: 18:00\n",
    "\n",
    "EmployeeID: 6\n",
    "\n",
    "\n",
    "Guest 2:\n",
    "\n",
    "Table Number: 5\n",
    "\n",
    "First Name: Bald\n",
    "\n",
    "Last Name: Vin\n",
    "\n",
    "Booking Time: 19:00\n",
    "\n",
    "EmployeeID: 6\n",
    "\n",
    "\n",
    "Guest 3:\n",
    "\n",
    "Table Number: 12\n",
    "\n",
    "First Name: Jay\n",
    "\n",
    "Last Name: Kon\n",
    "\n",
    "Booking Time: 19:30 \n",
    "\n",
    "EmployeeID: 6\n",
    "\n"
   ]
  },
  {
   "cell_type": "code",
   "execution_count": 4,
   "metadata": {},
   "outputs": [],
   "source": [
    "query1 = \"\"\"\n",
    "INSERT INTO Bookings (TableNo, GuestFirstName, GuestLastName, BookingSlot, EmployeeID)\n",
    "VALUES\n",
    "(8, 'Anees', 'Java', '18:00:00', 6);\n",
    "\"\"\"\n",
    "\n",
    "query2 = \"\"\"\n",
    "INSERT INTO Bookings (TableNo, GuestFirstName, GuestLastName, BookingSlot, EmployeeID)\n",
    "VALUES\n",
    "(5, 'Bald', 'Vin', '19:00:00', 6);\n",
    "\"\"\"\n",
    "\n",
    "query3 = \"\"\"\n",
    "INSERT INTO Bookings (TableNo, GuestFirstName, GuestLastName, BookingSlot, EmployeeID)\n",
    "VALUES\n",
    "(12, 'Jay', 'Kon', '19:30:00', 6);\n",
    "\"\"\""
   ]
  },
  {
   "cell_type": "code",
   "execution_count": 6,
   "metadata": {},
   "outputs": [],
   "source": [
    "# Creating procedures\n",
    "# Q1\n",
    "con1 = cpool.get_connection()\n",
    "cmd1 = con1.cursor()\n",
    "try:\n",
    "    cmd1.execute(query1)\n",
    "    con1.commit()\n",
    "except Exception as err:\n",
    "    print(err, \"Query 1\")\n",
    "finally:\n",
    "    con1.close()\n",
    "\n",
    "# Q2\n",
    "con2 = cpool.get_connection()\n",
    "cmd2 = con2.cursor()\n",
    "try:\n",
    "    cmd2.execute(query2)\n",
    "    con2.commit()\n",
    "except Exception as err:\n",
    "    print(err, \"Query 2\")\n",
    "finally:\n",
    "    con2.close()\n",
    "\n",
    "# Q3\n",
    "con1 = cpool.get_connection()\n",
    "cmd1 = con1.cursor()\n",
    "try:\n",
    "    cmd1.execute(query3)\n",
    "    con1.commit()\n",
    "except Exception as err:\n",
    "    print(err, \"Query 3\")\n",
    "finally:\n",
    "    con1.close()\n"
   ]
  },
  {
   "cell_type": "markdown",
   "metadata": {},
   "source": [
    "Task 3:\n",
    "Create a report containing the following information:\n",
    "\n",
    "The name and EmployeeID of the Little Lemon manager.\n",
    "\n",
    "The name and role of the employee who receives the highest salary.\n",
    "\n",
    "The number of guests booked between 18:00 and 20:00.\n",
    "\n",
    "The full name and BookingID of all guests waiting to be seated with the receptionist in sorted order with respect to their BookingSlot."
   ]
  },
  {
   "cell_type": "code",
   "execution_count": 7,
   "metadata": {},
   "outputs": [],
   "source": [
    "query1 = \"SELECT EmployeeID, Name FROM Employees WHERE Role = 'Manager';\"\n",
    "query2 = \"SELECT Name, Role FROM Employees ORDER BY Annual_Salary DESC limit 1;\"\n",
    "query3 = \"SELECT COUNT(*) AS NumberofGuests FROM Bookings WHERE BookingSlot >= '18:00:00' AND BookingSlot <= '20:00:00';\"\n",
    "query4 = \"\"\"SELECT B.BookingID, concat(B.GuestFirstName, ' ', B.GuestLastName) AS GuestFullName \n",
    "FROM Bookings AS B\n",
    "INNER JOIN Employees AS E\n",
    "\tON B.EmployeeID = E.EmployeeID\n",
    "WHERE E.Role = 'Receptionist'\n",
    "ORDER BY B.BookingSlot;\n",
    "\"\"\""
   ]
  },
  {
   "cell_type": "code",
   "execution_count": 10,
   "metadata": {},
   "outputs": [
    {
     "name": "stdout",
     "output_type": "stream",
     "text": [
      "The name and EmployeeID of the Little Lemon manager:\n",
      "['EmployeeID', 'Name']\n",
      "(1, 'Mario Gollini')\n",
      "The name and role of the employee who receives the highest salary.\n",
      "['Name', 'Role']\n",
      "('Mario Gollini', 'Manager')\n",
      "The number of guests booked between 18:00 and 20:00.\n",
      "['NumberofGuests']\n",
      "(8,)\n",
      "The full name and BookingID of all guests waiting to be seated with the receptionist in sorted order with respect to their BookingSlot.\n",
      "['BookingID', 'GuestFullName']\n",
      "(7, 'Anees Java')\n",
      "(11, 'Anees Java')\n",
      "(12, 'Bald Vin')\n",
      "(13, 'Jay Kon')\n"
     ]
    }
   ],
   "source": [
    "def printReport(query, description):\n",
    "    # Running report\n",
    "    print(description)\n",
    "    con1 = cpool.get_connection()\n",
    "    cmd1 = con1.cursor()\n",
    "    cmd1.execute(query)\n",
    "    dataset = cmd1.fetchall()\n",
    "    column_names = []\n",
    "    #getting column names\n",
    "    for result in cmd1.description:\n",
    "        column_names.append(result[0])\n",
    "    print(column_names)\n",
    "    for data in dataset:\n",
    "        print(data)\n",
    "    con1.close()\n",
    "\n",
    "# Running report\n",
    "printReport(query1, \"The name and EmployeeID of the Little Lemon manager:\")\n",
    "printReport(query2, \"The name and role of the employee who receives the highest salary.\")\n",
    "printReport(query3, \"The number of guests booked between 18:00 and 20:00.\")\n",
    "printReport(query4, \"The full name and BookingID of all guests waiting to be seated with the receptionist in sorted order with respect to their BookingSlot.\")\n"
   ]
  },
  {
   "cell_type": "markdown",
   "metadata": {},
   "source": [
    "Task 4:\n",
    "Create a stored procedure named BasicSalesReport that returns the following statistics: \n",
    "\n",
    "Total sales\n",
    "\n",
    "Average sale\n",
    "\n",
    "Minimum bill paid\n",
    "\n",
    "Maximum bill paid"
   ]
  },
  {
   "cell_type": "code",
   "execution_count": 11,
   "metadata": {},
   "outputs": [
    {
     "name": "stdout",
     "output_type": "stream",
     "text": [
      "['TotalSales', 'AverageSale', 'MaxBill', 'MinBill']\n",
      "(Decimal('243'), Decimal('48.6000'), 86, 37)\n"
     ]
    }
   ],
   "source": [
    "# I don't know what the question means by sales??? I'll use total and average bill instead\n",
    "proc_basic_sales = \"\"\"\n",
    "CREATE PROCEDURE BasicSalesReport()\n",
    "SELECT SUM(BillAmount) as TotalSales, AVG(BillAmount) as AverageSale, MAX(BillAmount) as MaxBill, MIN(BillAmount) as MinBill FROM Orders;\n",
    "\"\"\"\n",
    "\n",
    "con1 = cpool.get_connection()\n",
    "cmd1 = con1.cursor()\n",
    "try:\n",
    "    cmd1.execute(proc_basic_sales)\n",
    "except Exception as err:\n",
    "    print(err, \"BasicSalesReport\")\n",
    "\n",
    "\n",
    "# Running the proc\n",
    "cmd1.callproc(\"BasicSalesReport\")\n",
    "results = next( cmd1.stored_results() )\n",
    "dataset = results.fetchall()\n",
    "column_names = []\n",
    "#getting column names\n",
    "for result in results.description:\n",
    "    column_names.append(result[0])\n",
    "print(column_names)\n",
    "for data in dataset:\n",
    "    print(data)\n",
    "con1.close()"
   ]
  },
  {
   "cell_type": "markdown",
   "metadata": {},
   "source": [
    "Task 5:\n",
    "Little Lemon needs to display the next three upcoming bookings from the Bookings table on the kitchen screen to notify their chefs which orders are due next. To complete this task, carry out the following steps:\n",
    "\n",
    "Get a connection from the pool.\n",
    "\n",
    "Create a buffered cursor.\n",
    "\n",
    "Combine the data from the Bookings and the Employee tables. Sort the retrieved records in ascending order. Then display the information of the first three guests. \n",
    "\n",
    "Returned the connection back to the pool.\n",
    "\n",
    "\n",
    "The output should be as follows:\n",
    "\n",
    "[BookingSlot]\n",
    "\n",
    "[Guest_name]\n",
    "\n",
    "[Assigned to: Employee Name [Employee Role]]"
   ]
  },
  {
   "cell_type": "code",
   "execution_count": 16,
   "metadata": {},
   "outputs": [
    {
     "name": "stdout",
     "output_type": "stream",
     "text": [
      "['BookingSlot', 'Guest_name', 'AssignedTo']\n",
      "(datetime.timedelta(seconds=68400), 'Anna Iversen', 'Assigned to: Mario Gollini [Manager]')\n",
      "(datetime.timedelta(seconds=68400), 'Anna Iversen', 'Assigned to: Adrian Gollini [Assistant Manager]')\n",
      "(datetime.timedelta(seconds=68400), 'Anna Iversen', 'Assigned to: Giorgos Dioudis [Head Chef]')\n"
     ]
    },
    {
     "data": {
      "text/plain": [
       "True"
      ]
     },
     "execution_count": 16,
     "metadata": {},
     "output_type": "execute_result"
    }
   ],
   "source": [
    "query = \"\"\"SELECT \n",
    "\tB.BookingSlot, \n",
    "    concat(B.GuestFirstName, ' ', B.GuestLastName) as Guest_name, \n",
    "    concat(\"Assigned to: \", E.Name, ' [' , E.Role, \"]\") as AssignedTo\n",
    "FROM Bookings as B\n",
    "INNER JOIN Employees as E;\n",
    "\tOn B.EmployeeID = E.EmployeeID\n",
    "ORDER BY BookingSlot\n",
    "limit 3;\"\"\"\n",
    "\n",
    "con1 = cpool.get_connection()\n",
    "cmd1 = con1.cursor(buffered=True)\n",
    "cmd1.execute(query)\n",
    "dataset = cmd1.fetchmany(3)\n",
    "column_names = []\n",
    "#getting column names\n",
    "for result in cmd1.description:\n",
    "    column_names.append(result[0])\n",
    "print(column_names)\n",
    "\n",
    "for data in dataset:\n",
    "    print(data)\n",
    "cmd1.close()"
   ]
  }
 ],
 "metadata": {
  "kernelspec": {
   "display_name": "Python 3",
   "language": "python",
   "name": "python3"
  },
  "language_info": {
   "codemirror_mode": {
    "name": "ipython",
    "version": 3
   },
   "file_extension": ".py",
   "mimetype": "text/x-python",
   "name": "python",
   "nbconvert_exporter": "python",
   "pygments_lexer": "ipython3",
   "version": "3.12.2"
  }
 },
 "nbformat": 4,
 "nbformat_minor": 2
}
