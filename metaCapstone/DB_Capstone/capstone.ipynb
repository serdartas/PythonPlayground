{
 "cells": [
  {
   "cell_type": "code",
   "execution_count": 2,
   "metadata": {},
   "outputs": [
    {
     "name": "stdout",
     "output_type": "stream",
     "text": [
      "Defaulting to user installation because normal site-packages is not writeable\n",
      "Requirement already satisfied: mysql-connector-python in /Users/jean-marclubiba/Library/Python/3.9/lib/python/site-packages (8.1.0)\n",
      "Requirement already satisfied: protobuf<=4.21.12,>=4.21.1 in /Users/jean-marclubiba/Library/Python/3.9/lib/python/site-packages (from mysql-connector-python) (4.21.12)\n",
      "\u001b[33mWARNING: You are using pip version 21.2.4; however, version 23.2.1 is available.\n",
      "You should consider upgrading via the '/Library/Developer/CommandLineTools/usr/bin/python3 -m pip install --upgrade pip' command.\u001b[0m\n",
      "Note: you may need to restart the kernel to use updated packages.\n"
     ]
    }
   ],
   "source": [
    "pip install mysql-connector-python"
   ]
  },
  {
   "cell_type": "code",
   "execution_count": 3,
   "metadata": {},
   "outputs": [
    {
     "name": "stdout",
     "output_type": "stream",
     "text": [
      "The current database is:  littlelemondb\n"
     ]
    }
   ],
   "source": [
    "#Connecting Mysql with python using the connector module\n",
    "import mysql.connector as connector\n",
    "from mysql.connector import Error\n",
    "\n",
    "#Connecting to the MySQL database with a try/except error handling to let us know if something doesn't go well with the connection\n",
    "try:\n",
    "    connection = connector.connect(user = 'root', password='', database = 'LittleLemonDB')\n",
    "except Error as er:\n",
    "    print('Error code: ', er.errno)\n",
    "    print('Error message: ', er.msg)\n",
    "\n",
    "#Printing the current database name\n",
    "print('The current database is: ', connection.database)"
   ]
  },
  {
   "cell_type": "code",
   "execution_count": 4,
   "metadata": {},
   "outputs": [],
   "source": [
    "#Creating a cursor with the variable 'connection'\n",
    "cursor = connection.cursor()"
   ]
  },
  {
   "cell_type": "code",
   "execution_count": 5,
   "metadata": {},
   "outputs": [
    {
     "name": "stdout",
     "output_type": "stream",
     "text": [
      "Printing the list of tables:\n",
      "-> Bookings\n",
      "-> Cuisine\n",
      "-> Customer\n",
      "-> Menu\n",
      "-> Menu_Item\n",
      "-> Order Delivery Status\n",
      "-> Orders\n",
      "-> ordersview\n",
      "-> Staff\n"
     ]
    }
   ],
   "source": [
    "#Qurery the list of tables in the database LittleLemonDB\n",
    "show_tables_query = \"\"\"SHOW TABLES;\"\"\"\n",
    "\n",
    "#Using the cursor to execute the MySQL command and printing the result\n",
    "cursor.execute(show_tables_query)\n",
    "print('Printing the list of tables:')\n",
    "\n",
    "for table in cursor:\n",
    "    print('->', table[0])"
   ]
  },
  {
   "cell_type": "code",
   "execution_count": 6,
   "metadata": {},
   "outputs": [
    {
     "name": "stdout",
     "output_type": "stream",
     "text": [
      "('OrdersID', 'Quantity', 'Total Cost', 'Date', 'StaffID', 'MenuID', 'BookingID')\n",
      "-> 1, 2, $86.00, 2023-07-18, 7, 1, 1\n",
      "-> 2, 1, $37.00, 2023-07-18, 7, 2, 2\n",
      "-> 3, 1, $37.00, 2023-07-16, 5, 2, 3\n",
      "-> 4, 1, $40.00, 2023-07-17, 5, 3, 4\n",
      "-> 5, 1, $43.00, 2023-07-16, 2, 1, 5\n",
      "-> 6, 3, $111.00, 2023-07-18, 5, 2, 3\n",
      "-> 7, 5, $200.00, 2023-07-16, 7, 3, 2\n"
     ]
    }
   ],
   "source": [
    "#Query the Orders table information\n",
    "Show_Orders_table_query = \"\"\"SELECT * FROM Orders;\"\"\"\n",
    "\n",
    "#Executing the MySQL command\n",
    "cursor.execute(Show_Orders_table_query)\n",
    "\n",
    "#Printing the table's attributes\n",
    "print(cursor.column_names)\n",
    "\n",
    "#Print the rows\n",
    "for row in cursor:\n",
    "    print('-> {}, {}, ${}, {}, {}, {}, {}'.format(row[0], row[1], row[2], row[3], row[4], row[5], row[6]))"
   ]
  },
  {
   "cell_type": "code",
   "execution_count": 7,
   "metadata": {},
   "outputs": [
    {
     "name": "stdout",
     "output_type": "stream",
     "text": [
      "('BookingsID', 'Booking Date', 'Table Number', 'CustomerID')\n",
      "-> 1 ,2023-07-18 ,12 ,1\n",
      "-> 2 ,2023-07-17 ,12 ,1\n",
      "-> 3 ,2023-07-18 ,19 ,3\n",
      "-> 4 ,2023-07-05 ,15 ,4\n",
      "-> 5 ,2023-07-18 ,5 ,2\n",
      "-> 6 ,2023-07-16 ,8 ,5\n",
      "-> 7 ,2022-10-10 ,5 ,1\n",
      "-> 8 ,2022-11-12 ,3 ,3\n",
      "-> 9 ,2022-10-11 ,2 ,2\n",
      "-> 10 ,2022-10-13 ,2 ,1\n"
     ]
    }
   ],
   "source": [
    "#Query the Bookings table information\n",
    "Show_Bookings_table_query = \"\"\"SELECT * FROM Bookings;\"\"\"\n",
    "#Executing the MySQL command\n",
    "cursor.execute(Show_Bookings_table_query)\n",
    "\n",
    "#Printing the table's attributes\n",
    "print(cursor.column_names)\n",
    "\n",
    "#Print the rows\n",
    "for row in cursor:\n",
    "    print('-> {} ,{} ,{} ,{}'.format(row[0], row[1], row[2], row[3]))"
   ]
  },
  {
   "cell_type": "code",
   "execution_count": 8,
   "metadata": {},
   "outputs": [
    {
     "name": "stdout",
     "output_type": "stream",
     "text": [
      "('CustomerID', 'Customer Name', 'Phone Number', 'Email')\n",
      "-> 1 ,Anna Iversen ,+1(234)-567-890 ,Anna.I@email.com\n",
      "-> 2 ,Joakim Iversen ,+1(678)-912-345 ,Joakim.I@email.com\n",
      "-> 3 ,Vanessa McCarthy ,+1(678)-456-123 ,Vanessa.M@email.com\n",
      "-> 4 ,Marcos Romero ,+1(456)-678-123 ,Marcos.R@email.com\n",
      "-> 5 ,Hiroki Yamane ,+1(678)-123-456 ,Hiroki.Y@email.com\n",
      "-> 6 ,Diana Pinto ,+1(123)-456-678 ,Diana.P@email.com\n"
     ]
    }
   ],
   "source": [
    "#Query the Customer table information\n",
    "Show_Customer_table_query = \"\"\"SELECT * FROM Customer;\"\"\"\n",
    "#Executing the MySQL command\n",
    "cursor.execute(Show_Customer_table_query)\n",
    "\n",
    "#Printing the table's attributes\n",
    "print(cursor.column_names)\n",
    "\n",
    "#Print the rows\n",
    "for row in cursor:\n",
    "    print('-> {} ,{} ,{} ,{}'.format(row[0], row[1], row[2], row[3]))"
   ]
  },
  {
   "cell_type": "code",
   "execution_count": 9,
   "metadata": {},
   "outputs": [
    {
     "name": "stdout",
     "output_type": "stream",
     "text": [
      "Here are the customers whose orders are above $60:\n",
      "\n",
      "Customer Name: Anna Iversen\n",
      "Phone NUmber: +1(234)-567-890\n",
      "Email Adress: Anna.I@email.com\n",
      "Bill AMount: $86.00\n",
      "\n",
      "Customer Name: Vanessa McCarthy\n",
      "Phone NUmber: +1(678)-456-123\n",
      "Email Adress: Vanessa.M@email.com\n",
      "Bill AMount: $111.00\n",
      "\n",
      "Customer Name: Anna Iversen\n",
      "Phone NUmber: +1(234)-567-890\n",
      "Email Adress: Anna.I@email.com\n",
      "Bill AMount: $200.00\n"
     ]
    }
   ],
   "source": [
    "#Query the Customer's Names and contact details for Orders over $60\n",
    "Orders_greater_than_60_query = \"\"\"\n",
    "SELECT\n",
    "Customer.`Customer Name`, Customer.`Phone Number`, Customer.`Email`, Orders.`Total Cost`\n",
    "FROM Customer INNER JOIN Bookings INNER JOIN Orders\n",
    "ON\n",
    "Customer.`CustomerID` = Bookings.`CustomerID`\n",
    "AND\n",
    "Bookings.`BookingsID` = Orders.`BookingID`\n",
    "WHERE\n",
    "Orders.`Total Cost` > 60;\n",
    "\"\"\"\n",
    "\n",
    "#Executing the MySQL command\n",
    "cursor.execute(Orders_greater_than_60_query)\n",
    "\n",
    "\n",
    "\n",
    "#Print the ccustomers information\n",
    "print('Here are the customers whose orders are above $60:')\n",
    "for row in cursor:\n",
    "    print('\\nCustomer Name: {}'.format(row[0]))\n",
    "    print('Phone NUmber: {}'.format(row[1]))\n",
    "    print('Email Adress: {}'.format(row[2]))\n",
    "    print('Bill AMount: ${}'.format(row[3]))"
   ]
  },
  {
   "cell_type": "code",
   "execution_count": 13,
   "metadata": {},
   "outputs": [
    {
     "name": "stdout",
     "output_type": "stream",
     "text": [
      "['Max Quantity']\n",
      "-> 5\n"
     ]
    }
   ],
   "source": [
    "cursor.callproc('GetMaxQuantity')\n",
    "results = next(cursor.stored_results())\n",
    "dataset = results.fetchall()\n",
    "\n",
    "# Retrieve column names using list comprehension in a 'for' loop\n",
    "for column_id in cursor.stored_results():\n",
    "    columns = [ column[ 0 ] for column in column_id.description ]\n",
    "\n",
    "print(columns)\n",
    "\n",
    "for data in dataset:\n",
    "    print('-> {}'.format(data[0]))"
   ]
  },
  {
   "cell_type": "code",
   "execution_count": 14,
   "metadata": {},
   "outputs": [
    {
     "name": "stdout",
     "output_type": "stream",
     "text": [
      "The cursor is closed.\n",
      "The connection is closed.\n"
     ]
    }
   ],
   "source": [
    "#Checking the connection is still open and closing it\n",
    "if connection.is_connected():\n",
    "    cursor.close()\n",
    "    print('The cursor has been closed.')\n",
    "    connection.close()\n",
    "    print('The connection has been closed.')\n",
    "else:\n",
    "    print('The connection is already closed.')"
   ]
  },
  {
   "cell_type": "code",
   "execution_count": null,
   "metadata": {},
   "outputs": [],
   "source": []
  }
 ],
 "metadata": {
  "kernelspec": {
   "display_name": "Python 3",
   "language": "python",
   "name": "python3"
  },
  "language_info": {
   "codemirror_mode": {
    "name": "ipython",
    "version": 3
   },
   "file_extension": ".py",
   "mimetype": "text/x-python",
   "name": "python",
   "nbconvert_exporter": "python",
   "pygments_lexer": "ipython3",
   "version": "3.9.6"
  },
  "orig_nbformat": 4
 },
 "nbformat": 4,
 "nbformat_minor": 2
}
