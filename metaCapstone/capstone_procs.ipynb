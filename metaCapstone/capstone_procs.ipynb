{
 "cells": [
  {
   "cell_type": "markdown",
   "metadata": {},
   "source": [
    "Update following to connect to your own database"
   ]
  },
  {
   "cell_type": "code",
   "execution_count": 1,
   "metadata": {},
   "outputs": [],
   "source": [
    "dbconfig = {\n",
    "    \"host\":\"tascloud\",\n",
    "    \"port\":3306,\n",
    "    \"user\":\"test\",\n",
    "    \"password\":\"1-TestPassword\",\n",
    "    \"database\":\"little_lemon_db\"\n",
    "}\n"
   ]
  },
  {
   "cell_type": "code",
   "execution_count": 2,
   "metadata": {},
   "outputs": [],
   "source": [
    "from mysql.connector import pooling\n",
    "try:\n",
    "    cpool = pooling.MySQLConnectionPool(pool_name=\"pynative_pool\",\n",
    "                                                  pool_size=2,\n",
    "                                                  pool_reset_session=True,\n",
    "                                                  **dbconfig)\n",
    "except Exception as e:\n",
    "    print(\"Could not create a connection pool. See error for details\")\n",
    "    print(e.args)"
   ]
  },
  {
   "cell_type": "code",
   "execution_count": 3,
   "metadata": {},
   "outputs": [],
   "source": [
    "#Procedures\n",
    "\n",
    "proc_peak_hours = \"\"\"\n",
    "CREATE PROCEDURE PeakHours()\n",
    "SELECT HOUR(BookingSlot) AS BookingHour, COUNT(*) AS BookingCount\n",
    "FROM little_lemon_db.Bookings \n",
    "GROUP BY HOUR(BookingSlot)\n",
    "ORDER BY BookingCount DESC\n",
    "\"\"\"\n",
    "\n",
    "proc_guest_status = \"\"\"\n",
    "CREATE PROCEDURE GuestStatus()\n",
    "SELECT\n",
    "\tconcat(B.GuestFirstName, ' ', B.GuestLastName) AS GuestName, \n",
    "    CASE \n",
    "\t\tWHEN E.Role = 'Manager' OR E.Role = 'Assistant Manager' THEN 'Ready to pay'\n",
    "        WHEN E.Role = 'Head Chef' THEN 'Ready to serve'\n",
    "        WHEN E.Role = 'Assistant Chef' THEN 'Preparing Order'\n",
    "        WHEN E.Role = 'Head Waiter' THEN 'Order served'\n",
    "\tEND AS Status\n",
    "FROM Bookings AS B\n",
    "LEFT JOIN Employees AS E\n",
    "\tON B.EmployeeID = E.EmployeeID\"\"\"\n",
    "\n",
    "\n"
   ]
  },
  {
   "cell_type": "code",
   "execution_count": 4,
   "metadata": {},
   "outputs": [
    {
     "name": "stdout",
     "output_type": "stream",
     "text": [
      "1304 (42000): PROCEDURE PeakHours already exists\n"
     ]
    }
   ],
   "source": [
    "# Creating procedures\n",
    "# Peak Hours\n",
    "con1 = cpool.get_connection()\n",
    "cmd1 = con1.cursor()\n",
    "try:\n",
    "    cmd1.execute(proc_peak_hours)\n",
    "except Exception as err:\n",
    "    print(err, \"PeakHours\")\n",
    "\n",
    "# Guest Statuses\n",
    "con2 = cpool.get_connection()\n",
    "cmd2 = con2.cursor()\n",
    "try:\n",
    "    cmd2.execute(proc_guest_status)\n",
    "except Exception as err:\n",
    "    print(err, \"GuestStatus\")"
   ]
  },
  {
   "cell_type": "code",
   "execution_count": 5,
   "metadata": {},
   "outputs": [
    {
     "name": "stdout",
     "output_type": "stream",
     "text": [
      "['BookingHour', 'BookingCount']\n",
      "(19, 2)\n",
      "(15, 1)\n",
      "(17, 1)\n",
      "(18, 1)\n",
      "(20, 1)\n"
     ]
    }
   ],
   "source": [
    "# Running the proc\n",
    "cmd1.callproc(\"PeakHours\")\n",
    "results = next( cmd1.stored_results() )\n",
    "dataset = results.fetchall()\n",
    "column_names = []\n",
    "#getting column names\n",
    "for result in results.description:\n",
    "    column_names.append(result[0])\n",
    "print(column_names)\n",
    "for data in dataset:\n",
    "    print(data)\n",
    "con1.close()"
   ]
  },
  {
   "cell_type": "code",
   "execution_count": 6,
   "metadata": {},
   "outputs": [
    {
     "name": "stdout",
     "output_type": "stream",
     "text": [
      "['GuestName', 'Status']\n",
      "('Anna Iversen', 'Ready to pay')\n",
      "('Joakim Iversen', 'Ready to pay')\n",
      "('Vanessa McCarthy', 'Ready to serve')\n",
      "('Marcos Romero', 'Preparing Order')\n",
      "('Hiroki Yamane', 'Ready to pay')\n",
      "('Diana Pinto', 'Order served')\n"
     ]
    }
   ],
   "source": [
    "# Running the proc\n",
    "cmd2.callproc(\"GuestStatus\")\n",
    "results = next( cmd2.stored_results() )\n",
    "dataset = results.fetchall()\n",
    "column_names = []\n",
    "#getting column names\n",
    "for result in results.description:\n",
    "    column_names.append(result[0])\n",
    "print(column_names)\n",
    "for data in dataset:\n",
    "    print(data)\n",
    "con2.close()"
   ]
  }
 ],
 "metadata": {
  "kernelspec": {
   "display_name": "Python 3",
   "language": "python",
   "name": "python3"
  },
  "language_info": {
   "codemirror_mode": {
    "name": "ipython",
    "version": 3
   },
   "file_extension": ".py",
   "mimetype": "text/x-python",
   "name": "python",
   "nbconvert_exporter": "python",
   "pygments_lexer": "ipython3",
   "version": "3.12.2"
  }
 },
 "nbformat": 4,
 "nbformat_minor": 2
}
