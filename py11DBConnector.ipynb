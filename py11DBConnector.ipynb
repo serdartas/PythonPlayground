{
 "cells": [
  {
   "cell_type": "markdown",
   "metadata": {},
   "source": [
    "This notebook demonstrates db connection. It uses MYSQL's native connector. To install connector to you environment, you should use *pip install*\n",
    "\n",
    "You can run shell commands using *!* prefix. Note that, everything you run using ! prefix will be executed same as if you executed them in command line. Other way to install packages is to use *%* prefix. *%* prefix restricts installation to exclusively within the notebook. Commands run with *!* prefix will run in underlying OS so you will not get any screen output while with *%* you get the output since it is running in the notebook."
   ]
  },
  {
   "cell_type": "code",
   "execution_count": 1,
   "metadata": {},
   "outputs": [
    {
     "name": "stdout",
     "output_type": "stream",
     "text": [
      "Requirement already satisfied: mysql-connector-python in ./.venv/lib/python3.12/site-packages (8.3.0)\n",
      "Note: you may need to restart the kernel to use updated packages.\n"
     ]
    }
   ],
   "source": [
    "%pip install mysql-connector-python"
   ]
  },
  {
   "cell_type": "markdown",
   "metadata": {},
   "source": [
    "Updating the mysql.connector module to the latest version might be necessary if you use sha2 password with one of the latest MySQL versions."
   ]
  },
  {
   "cell_type": "code",
   "execution_count": 2,
   "metadata": {},
   "outputs": [
    {
     "name": "stdout",
     "output_type": "stream",
     "text": [
      "Requirement already satisfied: mysql-connector-python in ./.venv/lib/python3.12/site-packages (8.3.0)\n",
      "Note: you may need to restart the kernel to use updated packages.\n"
     ]
    }
   ],
   "source": [
    "%pip install --upgrade mysql-connector-python"
   ]
  },
  {
   "cell_type": "markdown",
   "metadata": {},
   "source": [
    "Next step is to import the module to the notebook"
   ]
  },
  {
   "cell_type": "code",
   "execution_count": 3,
   "metadata": {},
   "outputs": [],
   "source": [
    "import mysql.connector as connector"
   ]
  },
  {
   "cell_type": "markdown",
   "metadata": {},
   "source": [
    "Connect to database"
   ]
  },
  {
   "cell_type": "code",
   "execution_count": 4,
   "metadata": {},
   "outputs": [],
   "source": [
    "con = connector.connect(user=\"testuser\", password=\"testpassword\", port=3306, host=\"127.0.0.1\")"
   ]
  },
  {
   "cell_type": "markdown",
   "metadata": {},
   "source": [
    "Create an instance of cursor"
   ]
  },
  {
   "cell_type": "code",
   "execution_count": 8,
   "metadata": {},
   "outputs": [],
   "source": [
    "cmd = con.cursor()"
   ]
  },
  {
   "cell_type": "markdown",
   "metadata": {},
   "source": [
    "List databases"
   ]
  },
  {
   "cell_type": "code",
   "execution_count": 9,
   "metadata": {},
   "outputs": [
    {
     "name": "stdout",
     "output_type": "stream",
     "text": [
      "[('information_schema',), ('mysql',), ('performance_schema',), ('sys',)]\n"
     ]
    }
   ],
   "source": [
    "cmd.execute(\"SHOW DATABASES;\")\n",
    "databases = cmd.fetchall()\n",
    "print(databases)"
   ]
  },
  {
   "cell_type": "markdown",
   "metadata": {},
   "source": [
    "Let's create a database to use as example. Please note following command will drop the database first before creating it.\n",
    "Starting from top;"
   ]
  },
  {
   "cell_type": "code",
   "execution_count": 34,
   "metadata": {},
   "outputs": [
    {
     "name": "stdout",
     "output_type": "stream",
     "text": [
      "[('information_schema',), ('mysql',), ('performance_schema',), ('sys',), ('test',)]\n"
     ]
    }
   ],
   "source": [
    "query = \"CREATE DATABASE IF NOT EXISTS test;\"\n",
    "try:\n",
    "    con = connector.connect(user=\"testuser\", password=\"testpassword\", port=3306, host=\"127.0.0.1\")\n",
    "except connector.Error as e:\n",
    "    print(\"Error number:\", e.errno)\n",
    "    print(\"Error message:\", e.msg)\n",
    "cmd = con.cursor()\n",
    "cmd.execute(query)\n",
    "\n",
    "cmd.execute(\"SHOW DATABASES;\")\n",
    "databases = cmd.fetchall()\n",
    "print(databases)\n",
    "\n",
    "cmd.execute(\"USE test;\")\n"
   ]
  },
  {
   "cell_type": "code",
   "execution_count": 35,
   "metadata": {},
   "outputs": [
    {
     "name": "stdout",
     "output_type": "stream",
     "text": [
      "Name: mysql-connector-python\n",
      "Version: 8.3.0\n",
      "Summary: MySQL driver written in Python\n",
      "Home-page: http://dev.mysql.com/doc/connector-python/en/index.html\n",
      "Author: Oracle and/or its affiliates\n",
      "Author-email: \n",
      "License: GNU GPLv2 (with FOSS License Exception)\n",
      "Location: /Users/STas/Repositories/PythonPlayground/.venv/lib/python3.12/site-packages\n",
      "Requires: \n",
      "Required-by: \n"
     ]
    }
   ],
   "source": [
    "!pip show mysql-connector-python"
   ]
  }
 ],
 "metadata": {
  "kernelspec": {
   "display_name": ".venv",
   "language": "python",
   "name": "python3"
  },
  "language_info": {
   "codemirror_mode": {
    "name": "ipython",
    "version": 3
   },
   "file_extension": ".py",
   "mimetype": "text/x-python",
   "name": "python",
   "nbconvert_exporter": "python",
   "pygments_lexer": "ipython3",
   "version": "3.12.2"
  }
 },
 "nbformat": 4,
 "nbformat_minor": 2
}
